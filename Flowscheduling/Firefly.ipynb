{
 "cells": [
  {
   "cell_type": "code",
   "execution_count": 1,
   "metadata": {},
   "outputs": [
    {
     "name": "stdout",
     "output_type": "stream",
     "text": [
      "Requirement already satisfied: gurobipy in c:\\users\\ananyae\\anaconda3\\lib\\site-packages (9.5.2)\n"
     ]
    }
   ],
   "source": [
    "!pip install gurobipy\n",
    "import pandas as pd\n",
    "import numpy as np\n",
    "import requests\n",
    "import matplotlib.pyplot as plt\n",
    "\n",
    "from gurobipy import *\n",
    "import os"
   ]
  },
  {
   "cell_type": "code",
   "execution_count": 2,
   "metadata": {},
   "outputs": [
    {
     "name": "stdout",
     "output_type": "stream",
     "text": [
      "['10 10 \\n', '54 129 155 559 10.00 10.00 \\n', '99999 3 15 15 15 15 15 15 \\n', '15 15 \\n', '120 195 258 744 10.00 10.00 \\n', '3 99999 15 15 15 15 15 15 \\n', '15 15 \\n', '14 89 98 510 30.00 30.00 \\n', '15 15 99999 8 8 8 8 8 \\n', '8 8 \\n', '21 96 106 521 30.00 30.00 \\n', '15 15 8 99999 8 8 8 8 \\n', '8 8 \\n', '35 110 123 555 30.00 30.00 \\n', '15 15 8 8 99999 8 8 8 \\n', '8 8 \\n', '45 120 135 576 30.00 30.00 \\n', '15 15 8 8 8 99999 8 8 \\n', '8 8 \\n', '49 124 138 577 30.00 30.00 \\n', '15 15 8 8 8 8 99999 8 \\n', '8 8 \\n', '51 126 140 573 30.00 30.00 \\n', '15 15 8 8 8 8 8 99999 \\n', '8 8 \\n', '60 135 150 591 30.00 30.00 \\n', '15 15 8 8 8 8 8 8 \\n', '99999 8 \\n', '85 160 180 657 30.00 30.00 \\n', '15 15 8 8 8 8 8 8 \\n', '8 99999 ']\n"
     ]
    }
   ],
   "source": [
    "with open('static_one.txt') as f:\n",
    "    lines = f.readlines()\n",
    "print(lines)"
   ]
  },
  {
   "cell_type": "code",
   "execution_count": 27,
   "metadata": {},
   "outputs": [
    {
     "data": {
      "text/plain": [
       "array([[ 54., 129., 155., 559.,  10.,  10.],\n",
       "       [120., 195., 258., 744.,  10.,  10.],\n",
       "       [ 14.,  89.,  98., 510.,  30.,  30.],\n",
       "       [ 21.,  96., 106., 521.,  30.,  30.],\n",
       "       [ 35., 110., 123., 555.,  30.,  30.],\n",
       "       [ 45., 120., 135., 576.,  30.,  30.],\n",
       "       [ 49., 124., 138., 577.,  30.,  30.],\n",
       "       [ 51., 126., 140., 573.,  30.,  30.],\n",
       "       [ 60., 135., 150., 591.,  30.,  30.],\n",
       "       [ 85., 160., 180., 657.,  30.,  30.]])"
      ]
     },
     "execution_count": 27,
     "metadata": {},
     "output_type": "execute_result"
    }
   ],
   "source": [
    "N=int(lines[0].split(\" \")[0])\n",
    "info=list()\n",
    "Sij=list()\n",
    "for i in range(N):\n",
    "    info.append(lines[3*i+1].split(\" \")[:-1])\n",
    "    Sij.append(lines[3*i+2].split(\" \")[:-1]+lines[3*i+3].split(\" \")[:-1])\n",
    "info=np.array(info,dtype=np.double)\n",
    "Sij=np.array(Sij,dtype=np.double)\n",
    "info"
   ]
  },
  {
   "cell_type": "code",
   "execution_count": 28,
   "metadata": {},
   "outputs": [
    {
     "data": {
      "text/plain": [
       "array([[9.9999e+04, 3.0000e+00, 1.5000e+01, 1.5000e+01, 1.5000e+01,\n",
       "        1.5000e+01, 1.5000e+01, 1.5000e+01, 1.5000e+01, 1.5000e+01],\n",
       "       [3.0000e+00, 9.9999e+04, 1.5000e+01, 1.5000e+01, 1.5000e+01,\n",
       "        1.5000e+01, 1.5000e+01, 1.5000e+01, 1.5000e+01, 1.5000e+01],\n",
       "       [1.5000e+01, 1.5000e+01, 9.9999e+04, 8.0000e+00, 8.0000e+00,\n",
       "        8.0000e+00, 8.0000e+00, 8.0000e+00, 8.0000e+00, 8.0000e+00],\n",
       "       [1.5000e+01, 1.5000e+01, 8.0000e+00, 9.9999e+04, 8.0000e+00,\n",
       "        8.0000e+00, 8.0000e+00, 8.0000e+00, 8.0000e+00, 8.0000e+00],\n",
       "       [1.5000e+01, 1.5000e+01, 8.0000e+00, 8.0000e+00, 9.9999e+04,\n",
       "        8.0000e+00, 8.0000e+00, 8.0000e+00, 8.0000e+00, 8.0000e+00],\n",
       "       [1.5000e+01, 1.5000e+01, 8.0000e+00, 8.0000e+00, 8.0000e+00,\n",
       "        9.9999e+04, 8.0000e+00, 8.0000e+00, 8.0000e+00, 8.0000e+00],\n",
       "       [1.5000e+01, 1.5000e+01, 8.0000e+00, 8.0000e+00, 8.0000e+00,\n",
       "        8.0000e+00, 9.9999e+04, 8.0000e+00, 8.0000e+00, 8.0000e+00],\n",
       "       [1.5000e+01, 1.5000e+01, 8.0000e+00, 8.0000e+00, 8.0000e+00,\n",
       "        8.0000e+00, 8.0000e+00, 9.9999e+04, 8.0000e+00, 8.0000e+00],\n",
       "       [1.5000e+01, 1.5000e+01, 8.0000e+00, 8.0000e+00, 8.0000e+00,\n",
       "        8.0000e+00, 8.0000e+00, 8.0000e+00, 9.9999e+04, 8.0000e+00],\n",
       "       [1.5000e+01, 1.5000e+01, 8.0000e+00, 8.0000e+00, 8.0000e+00,\n",
       "        8.0000e+00, 8.0000e+00, 8.0000e+00, 8.0000e+00, 9.9999e+04]])"
      ]
     },
     "execution_count": 28,
     "metadata": {},
     "output_type": "execute_result"
    }
   ],
   "source": [
    "Sij"
   ]
  },
  {
   "cell_type": "code",
   "execution_count": 29,
   "metadata": {},
   "outputs": [
    {
     "data": {
      "text/plain": [
       "array([[9.9999e+01, 3.0000e-03, 1.5000e-02, 1.5000e-02, 1.5000e-02,\n",
       "        1.5000e-02, 1.5000e-02, 1.5000e-02, 1.5000e-02, 1.5000e-02],\n",
       "       [3.0000e-03, 9.9999e+01, 1.5000e-02, 1.5000e-02, 1.5000e-02,\n",
       "        1.5000e-02, 1.5000e-02, 1.5000e-02, 1.5000e-02, 1.5000e-02],\n",
       "       [1.5000e-02, 1.5000e-02, 9.9999e+01, 8.0000e-03, 8.0000e-03,\n",
       "        8.0000e-03, 8.0000e-03, 8.0000e-03, 8.0000e-03, 8.0000e-03],\n",
       "       [1.5000e-02, 1.5000e-02, 8.0000e-03, 9.9999e+01, 8.0000e-03,\n",
       "        8.0000e-03, 8.0000e-03, 8.0000e-03, 8.0000e-03, 8.0000e-03],\n",
       "       [1.5000e-02, 1.5000e-02, 8.0000e-03, 8.0000e-03, 9.9999e+01,\n",
       "        8.0000e-03, 8.0000e-03, 8.0000e-03, 8.0000e-03, 8.0000e-03],\n",
       "       [1.5000e-02, 1.5000e-02, 8.0000e-03, 8.0000e-03, 8.0000e-03,\n",
       "        9.9999e+01, 8.0000e-03, 8.0000e-03, 8.0000e-03, 8.0000e-03],\n",
       "       [1.5000e-02, 1.5000e-02, 8.0000e-03, 8.0000e-03, 8.0000e-03,\n",
       "        8.0000e-03, 9.9999e+01, 8.0000e-03, 8.0000e-03, 8.0000e-03],\n",
       "       [1.5000e-02, 1.5000e-02, 8.0000e-03, 8.0000e-03, 8.0000e-03,\n",
       "        8.0000e-03, 8.0000e-03, 9.9999e+01, 8.0000e-03, 8.0000e-03],\n",
       "       [1.5000e-02, 1.5000e-02, 8.0000e-03, 8.0000e-03, 8.0000e-03,\n",
       "        8.0000e-03, 8.0000e-03, 8.0000e-03, 9.9999e+01, 8.0000e-03],\n",
       "       [1.5000e-02, 1.5000e-02, 8.0000e-03, 8.0000e-03, 8.0000e-03,\n",
       "        8.0000e-03, 8.0000e-03, 8.0000e-03, 8.0000e-03, 9.9999e+01]])"
      ]
     },
     "execution_count": 29,
     "metadata": {},
     "output_type": "execute_result"
    }
   ],
   "source": [
    "E,T,L,g,h=info[:,1],info[:,2],info[:,3],info[:,4],info[:,5]\n",
    "max_c=-1000000000\n",
    "scale=1000\n",
    "E=E/scale\n",
    "T=T/scale\n",
    "L=L/scale\n",
    "Sij=Sij/scale\n",
    "Sij"
   ]
  },
  {
   "cell_type": "code",
   "execution_count": 42,
   "metadata": {},
   "outputs": [],
   "source": [
    "def Loss_fn(x):\n",
    "#     print(x)\n",
    "    p=list(range(0,N))\n",
    "    temp=list(np.array([x,p]).transpose())\n",
    "    temp.sort(key=lambda a: (a[0]))\n",
    "    temp=np.array(temp)\n",
    "#     print(temp)\n",
    "    bol=True\n",
    "    cost=0\n",
    "#     print(temp)\n",
    "    for i in range(N-1):\n",
    "        bol=bol and temp[i+1][0]>=np.round_(temp[i][0]+Sij[int(temp[i][1])][int(temp[i+1][1])],decimals = 3)and E[int(temp[i][1])]<=np.round_(temp[i][0],decimals = 3) and temp[i][0]<=np.round_(L[int(temp[i][1])],decimals = 3)\n",
    "#         print(temp[i+1][0],temp[i][0],Sij[int(temp[i][1])][int(temp[i+1][1])],temp[i+1][0]>=temp[i][0]+Sij[int(temp[i][1])][int(temp[i+1][1])] , E[int(temp[i][1])]<=temp[i][0] , temp[i][0]<=L[int(temp[i][1])])\n",
    "#         print(temp[i+1][0],temp[i][0],Sij[int(temp[i][1])][int(temp[i+1][1])],temp[i][0]+Sij[int(temp[i][1])][int(temp[i+1][1])])\n",
    "        cost=cost+g[int(temp[i][1])]*max((T[int(temp[i][1])]-temp[i][0]),0)+h[int(temp[i][1])]*max((temp[i][0]-T[int(temp[i][1])]),0)\n",
    "    cost=cost+g[int(temp[N-1][1])]*max((T[int(temp[N-1][1])]-temp[N-1][0]),0)+h[int(temp[N-1][1])]*max((temp[N-1][0]-T[int(temp[N-1][1])]),0)\n",
    "    if bol: return -cost\n",
    "    else: return max_c"
   ]
  },
  {
   "cell_type": "code",
   "execution_count": 120,
   "metadata": {},
   "outputs": [],
   "source": [
    "def periodic_boundary(x):\n",
    "    temp=x\n",
    "    for i in range(N):\n",
    "        if temp[i]<E[i]:\n",
    "            temp[i]=E[i]#+alpha*np.random.uniform(0,1,1)[0]\n",
    "        if temp[i]>L[i]:\n",
    "            temp[i]=L[i]#-alpha*np.random.uniform(0,1,1)[0]\n",
    "    return temp"
   ]
  },
  {
   "cell_type": "code",
   "execution_count": 117,
   "metadata": {},
   "outputs": [
    {
     "data": {
      "text/plain": [
       "-0.6999999999999997"
      ]
     },
     "execution_count": 117,
     "metadata": {},
     "output_type": "execute_result"
    }
   ],
   "source": [
    "a=np.round_([165.0, 258.0, 98.0, 106.0, 118.00000000000003, 126.00000000000003, 134.00000000000003, 142.00000000000003, 150.00000000000003, 180.0], decimals = 3)\n",
    "a=a/scale\n",
    "Loss_fn(a)"
   ]
  },
  {
   "cell_type": "code",
   "execution_count": 118,
   "metadata": {},
   "outputs": [],
   "source": [
    "def initilize(n,dim):\n",
    "    l=list()\n",
    "    for i in range(N):\n",
    "        l.append(np.random.uniform(E[i],L[i],n))\n",
    "    l=np.array(l)\n",
    "    l=l.transpose()\n",
    "    return l"
   ]
  },
  {
   "cell_type": "code",
   "execution_count": 127,
   "metadata": {},
   "outputs": [],
   "source": [
    "dim=N\n",
    "n=100\n",
    "pos=initilize(n,dim)\n",
    "fitness=list()\n",
    "for i in range(n):\n",
    "    fitness.append(Loss_fn(pos[i,:]))\n",
    "TT=1000\n",
    "alpha=.01\n",
    "beta=.001\n",
    "gamma=.005\n",
    "theta=.98\n",
    "max_fitness=max(fitness)\n",
    "index_max=fitness.index(max_fitness)\n",
    "Global_best=list()"
   ]
  },
  {
   "cell_type": "code",
   "execution_count": 128,
   "metadata": {},
   "outputs": [],
   "source": [
    "for k in range(TT):\n",
    "    for i in range(n):\n",
    "        t=np.array([0]*dim)\n",
    "        for j in range(n):\n",
    "            if (fitness[j]>fitness[i]):\n",
    "                rij_2=np.sum(np.square(pos[i,:]-pos[j,:]))\n",
    "#                 print(beta*np.exp(-gamma*rij_2)*(pos[j,:]-pos[i,:]))\n",
    "                t=t+beta*np.exp(-gamma*rij_2)*(pos[j,:]-pos[i,:])\n",
    "#         print(t,pos[i,:])\n",
    "        t=np.round_(pos[i,:]+t+alpha*np.random.uniform(-.5,.5,dim), decimals = 5)\n",
    "        t=periodic_boundary(t)\n",
    "        \n",
    "        new_fitness=Loss_fn(list(t))\n",
    "        if new_fitness!=max_c or fitness[i]==max_c:\n",
    "            pos[i,:]=t\n",
    "            fitness[i]=new_fitness\n",
    "            if max_fitness<= new_fitness:\n",
    "                max_fitness=new_fitness\n",
    "                index_max=i\n",
    "    Global_best.append(max_fitness)\n",
    "#     if k%10==0:\n",
    "#     alpha=alpha*theta\n",
    "#         else:\n",
    "#             pos[i]=alpha*np.random.uniform(-.5,.5,dim)"
   ]
  },
  {
   "cell_type": "code",
   "execution_count": 129,
   "metadata": {},
   "outputs": [
    {
     "data": {
      "text/plain": [
       "[<matplotlib.lines.Line2D at 0x15f836cac70>]"
      ]
     },
     "execution_count": 129,
     "metadata": {},
     "output_type": "execute_result"
    },
    {
     "data": {
      "image/png": "[encoded data removed]",
      "text/plain": [
       "<Figure size 432x288 with 1 Axes>"
      ]
     },
     "metadata": {
      "needs_background": "light"
     },
     "output_type": "display_data"
    }
   ],
   "source": [
    "plt.plot(list(range(1,TT+1)),Global_best)"
   ]
  },
  {
   "cell_type": "code",
   "execution_count": 126,
   "metadata": {},
   "outputs": [
    {
     "data": {
      "text/plain": [
       "array([409.72, 466.04, 277.93, 238.85, 212.09, 332.03, 297.06, 342.02,\n",
       "       267.01, 250.96])"
      ]
     },
     "execution_count": 126,
     "metadata": {},
     "output_type": "execute_result"
    }
   ],
   "source": [
    "index_max\n",
    "pos[index_max,:]*scale"
   ]
  },
  {
   "cell_type": "code",
   "execution_count": 85,
   "metadata": {},
   "outputs": [
    {
     "name": "stdout",
     "output_type": "stream",
     "text": [
      "[[ 54. 129. 155. 559.  10.  10.]\n",
      " [120. 195. 258. 744.  10.  10.]\n",
      " [ 14.  89.  98. 510.  30.  30.]\n",
      " [ 21.  96. 106. 521.  30.  30.]\n",
      " [ 35. 110. 123. 555.  30.  30.]\n",
      " [ 45. 120. 135. 576.  30.  30.]\n",
      " [ 49. 124. 138. 577.  30.  30.]\n",
      " [ 51. 126. 140. 573.  30.  30.]\n",
      " [ 60. 135. 150. 591.  30.  30.]\n",
      " [ 85. 160. 180. 657.  30.  30.]]\n",
      "[[99999     3    15    15    15    15    15    15    15    15]\n",
      " [    3 99999    15    15    15    15    15    15    15    15]\n",
      " [   15    15 99999     8     8     8     8     8     8     8]\n",
      " [   15    15     8 99999     8     8     8     8     8     8]\n",
      " [   15    15     8     8 99999     8     8     8     8     8]\n",
      " [   15    15     8     8     8 99999     8     8     8     8]\n",
      " [   15    15     8     8     8     8 99999     8     8     8]\n",
      " [   15    15     8     8     8     8     8 99999     8     8]\n",
      " [   15    15     8     8     8     8     8     8 99999     8]\n",
      " [   15    15     8     8     8     8     8     8     8 99999]]\n",
      "Restricted license - for non-production use only - expires 2023-10-25\n",
      "Gurobi Optimizer version 9.5.2 build v9.5.2rc0 (win64)\n",
      "Thread count: 6 physical cores, 12 logical processors, using up to 12 threads\n",
      "Optimize a model with 220 rows, 130 columns and 510 nonzeros\n",
      "Model fingerprint: 0x3a33c4f4\n",
      "Variable types: 30 continuous, 100 integer (100 binary)\n",
      "Coefficient statistics:\n",
      "  Matrix range     [1e+00, 7e+02]\n",
      "  Objective range  [1e+01, 3e+01]\n",
      "  Bounds range     [1e+00, 1e+00]\n",
      "  RHS range        [1e+00, 7e+02]\n",
      "Found heuristic solution: objective 3530.0000000\n",
      "Presolve removed 120 rows and 55 columns\n",
      "Presolve time: 0.01s\n",
      "Presolved: 100 rows, 75 columns, 300 nonzeros\n",
      "Variable types: 30 continuous, 45 integer (45 binary)\n",
      "\n",
      "Root relaxation: objective 0.000000e+00, 41 iterations, 0.01 seconds (0.00 work units)\n",
      "\n",
      "    Nodes    |    Current Node    |     Objective Bounds      |     Work\n",
      " Expl Unexpl |  Obj  Depth IntInf | Incumbent    BestBd   Gap | It/Node Time\n",
      "\n",
      "     0     0    0.00000    0    4 3530.00000    0.00000   100%     -    0s\n",
      "H    0     0                    1610.0000000    0.00000   100%     -    0s\n",
      "H    0     0                    1000.0000000    0.00000   100%     -    0s\n",
      "H    0     0                     820.0000000  318.94607  61.1%     -    0s\n",
      "     0     0  318.94607    0    3  820.00000  318.94607  61.1%     -    0s\n",
      "H    0     0                     700.0000000  318.94607  54.4%     -    0s\n",
      "     0     0  520.00000    0    4  700.00000  520.00000  25.7%     -    0s\n",
      "     0     0  520.00000    0    6  700.00000  520.00000  25.7%     -    0s\n",
      "     0     0  520.00000    0    3  700.00000  520.00000  25.7%     -    0s\n",
      "     0     0  520.00000    0    4  700.00000  520.00000  25.7%     -    0s\n",
      "     0     0  700.00000    0    2  700.00000  700.00000  0.00%     -    0s\n",
      "\n",
      "Cutting planes:\n",
      "  Gomory: 2\n",
      "  MIR: 17\n",
      "  RLT: 1\n",
      "\n",
      "Explored 1 nodes (105 simplex iterations) in 0.09 seconds (0.00 work units)\n",
      "Thread count was 12 (of 12 available processors)\n",
      "\n",
      "Solution count 5: 700 820 1000 ... 3530\n",
      "\n",
      "Optimal solution found (tolerance 1.00e-04)\n",
      "Best objective 7.000000000000e+02, best bound 7.000000000000e+02, gap 0.0000%\n",
      "SCHEDULED LANDING TIME FOR AIRCRAFT 1 =  165\n",
      "SCHEDULED LANDING TIME FOR AIRCRAFT 2 =  258\n",
      "SCHEDULED LANDING TIME FOR AIRCRAFT 3 =  98\n",
      "SCHEDULED LANDING TIME FOR AIRCRAFT 4 =  106\n",
      "SCHEDULED LANDING TIME FOR AIRCRAFT 5 =  118\n",
      "SCHEDULED LANDING TIME FOR AIRCRAFT 6 =  126\n",
      "SCHEDULED LANDING TIME FOR AIRCRAFT 7 =  134\n",
      "SCHEDULED LANDING TIME FOR AIRCRAFT 8 =  142\n",
      "SCHEDULED LANDING TIME FOR AIRCRAFT 9 =  150\n",
      "SCHEDULED LANDING TIME FOR AIRCRAFT 10 =  180\n",
      "[165.0, 258.0, 98.0, 106.0, 118.00000000000003, 126.00000000000003, 134.00000000000003, 142.00000000000003, 150.00000000000003, 180.0]\n",
      "-1000000000\n"
     ]
    },
    {
     "data": {
      "text/plain": [
       "<gurobi.Model MIP instance Aircraft Landing Schedule: 220 constrs, 130 vars, No parameter changes>"
      ]
     },
     "execution_count": 85,
     "metadata": {},
     "output_type": "execute_result"
    }
   ],
   "source": [
    "''' Scheduling Aircraft Landing (Static Case) with 1 runway\n",
    "    Landing times of aircrafts are determined satisfying certain constraints\n",
    "    Constraints- The aircraft should land within a predetermined time interval\n",
    "                 Clearance time between two landing should be satisfied\n",
    "'''\n",
    "\n",
    "\n",
    "#=====================================================================\n",
    "# Function to fetch data from provided txt file\n",
    "# @parameters- file_name : Data file(must be present in same directory)\n",
    "#=====================================================================\n",
    "def fetch_data(file_name):\n",
    "    data=open(file_name,'r')\n",
    "    lines=data.readlines()\n",
    "    num_planes=int(lines[0].split()[0])\n",
    "    freeze_time=int(lines[0].split()[1])\n",
    "\n",
    "    flight_details=np.empty([num_planes,6],dtype=float)\n",
    "    sep_time=np.empty([num_planes,num_planes],dtype=int)\n",
    "    s=''\n",
    "    for line in lines[1:]:\n",
    "        s=s+line\n",
    "    s=s.split()\n",
    "    flag=0\n",
    "    count=0\n",
    "    for items in [s[x:x+6+num_planes] for x in range(0,len(s),num_planes+6)]:\n",
    "        flight_details[count]=[float(x) for x in items[:6]]\n",
    "        sep_time[count]=[int(x) for x in items[6:]]\n",
    "        count=count+1\n",
    "    print(flight_details)\n",
    "    print(sep_time)\n",
    "    data.close()\n",
    "    return num_planes,flight_details,sep_time\n",
    "\n",
    "#=====================================================================\n",
    "# Function to find landing time of the aircrafts\n",
    "# @parameters- file_name Data file(must be present in same directory)\n",
    "#=====================================================================\n",
    "def schedule(file_):\n",
    "    num_flights,flights,clearance=fetch_data(file_)\n",
    "    try:\n",
    "        #Creating a Gurobi model\n",
    "        model=Model(\"Aircraft Landing Schedule\")\n",
    "        M=max(flights[:,3])-min(flights[:,1])\n",
    "        z_pos={}\n",
    "        for i in np.arange(1,num_flights+1):\n",
    "            z_pos[i]=flights[i-1,5]\n",
    "        z_neg={}\n",
    "        for i in np.arange(1,num_flights+1):\n",
    "            z_neg[i]=flights[i-1,4]\n",
    "        x_={}\n",
    "        for i in np.arange(1,num_flights+1):\n",
    "            x_[i]=0\n",
    "        del_={}\n",
    "        for i in np.arange(1,num_flights+1):\n",
    "            for j in np.arange(1,num_flights+1):\n",
    "                del_[i,j]=0\n",
    "            \n",
    "        #Adding decision variables\n",
    "        z_p=model.addVars(z_pos.keys(),lb=0,ub=GRB.INFINITY,obj=z_pos,vtype=GRB.CONTINUOUS,name=\"z_p\")\n",
    "        z_n=model.addVars(z_neg.keys(),lb=0,ub=GRB.INFINITY,obj=z_neg,vtype=GRB.CONTINUOUS,name=\"z_n\")\n",
    "        x=model.addVars(x_.keys(),lb=0,ub=GRB.INFINITY,obj=x_,vtype=GRB.CONTINUOUS,name=\"x\")\n",
    "        d=model.addVars(del_.keys(),lb=0,ub=1,obj=del_,vtype=GRB.BINARY,name=\"d\")\n",
    "\n",
    "        #Adding constraints\n",
    "        model.addConstrs((x[j]-x[i]>=clearance[i-1,j-1] - d[j,i]*M for i in np.arange(1,num_flights+1) for j in np.arange(1,num_flights+1) if j!=i),name=\"Clearance\")\n",
    "        model.addConstrs((z_p[i]>=x[i]-flights[i-1,2] for i in np.arange(1,num_flights+1)),name=\"+\")\n",
    "        model.addConstrs((z_n[i]>=flights[i-1,2]-x[i] for i in np.arange(1,num_flights+1)),name=\"-\")\n",
    "        model.addConstrs((x[i]>=flights[i-1,1] for i in np.arange(1,num_flights+1)),name=\"Land after earliest landing time\")\n",
    "        model.addConstrs((x[i]<=flights[i-1,3] for i in np.arange(1,num_flights+1)),name=\"Land before latest landing time\")\n",
    "        model.addConstrs((d[i,j]+d[j,i]==1 for i in np.arange(1,num_flights +1) for j in np.arange(1,num_flights+1) if j!=i),name=\"~\")\n",
    "\n",
    "        \n",
    "        model.optimize()\n",
    "\n",
    "        # Displaying scheduled landing times\n",
    "        \n",
    "        for i in np.arange(1,num_flights+1):\n",
    "            print('%s %g' % ('SCHEDULED LANDING TIME FOR AIRCRAFT '+str(i)+\" = \", model.getVarByName(\"x[\"+str(i)+\"]\").X))\n",
    "        s=list()\n",
    "        for i in range(1,num_flights+1):\n",
    "            s.append(model.getVarByName(\"x[\"+str(i)+\"]\").X)\n",
    "        print(s)\n",
    "        print(Loss_fn(s))\n",
    "        \n",
    "                \n",
    "    except GurobiError as e:\n",
    "        print('Error code ' + str(e.errno) + \": \" + str(e))\n",
    "\n",
    "    except AttributeError as a:\n",
    "        print('Encountered an attribute error '+str(a))\n",
    "\n",
    "    return model\n",
    "\n",
    "# a='''The available cases are:\n",
    "#     [1] airland1.txt with 10 flights\n",
    "#     [2] airland8.txt with 50 flights\n",
    "#     [3] airland13.txt with 500 flights\n",
    "#     '''\n",
    "schedule('static_one.txt')\n",
    "# # print(a)\n",
    "# num=input('Enter your choice (1/2/3):')\n",
    "# if num==1:\n",
    "#     schedule('airland1.txt')\n",
    "# elif num==2:\n",
    "#     schedule('airland8.txt')\n",
    "# elif num==3:\n",
    "#     schedule('airland13.txt')\n",
    "\n",
    "# '''Print extracted data'''\n",
    "#fetch_data('airland13.txt')"
   ]
  },
  {
   "cell_type": "code",
   "execution_count": 86,
   "metadata": {},
   "outputs": [
    {
     "data": {
      "text/plain": [
       "-700.0"
      ]
     },
     "execution_count": 86,
     "metadata": {},
     "output_type": "execute_result"
    }
   ],
   "source": [
    "a=np.round_([165.0, 258.0, 98.0, 106.0, 118.00000000000003, 126.00000000000003, 134.00000000000003, 142.00000000000003, 150.00000000000003, 180.0], decimals = 3)\n",
    "Loss_fn(a)"
   ]
  },
  {
   "cell_type": "code",
   "execution_count": null,
   "metadata": {},
   "outputs": [],
   "source": []
  }
 ],
 "metadata": {
  "kernelspec": {
   "display_name": "Python 3",
   "language": "python",
   "name": "python3"
  },
  "language_info": {
   "codemirror_mode": {
    "name": "ipython",
    "version": 3
   },
   "file_extension": ".py",
   "mimetype": "text/x-python",
   "name": "python",
   "nbconvert_exporter": "python",
   "pygments_lexer": "ipython3",
   "version": "3.8.3"
  }
 },
 "nbformat": 4,
 "nbformat_minor": 4
}
