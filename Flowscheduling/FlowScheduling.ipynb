{
  "cells": [
    {
      "cell_type": "markdown",
      "source": [
        "## Importing libraries"
      ],
      "metadata": {
        "id": "GfsthalwP26S"
      }
    },
    {
      "cell_type": "code",
      "execution_count": 1,
      "metadata": {
        "id": "eByNz_tCzIUB"
      },
      "outputs": [],
      "source": [
        "import numpy as np\n",
        "import random\n",
        "import matplotlib.pyplot as plt\n",
        "from itertools import permutations\n",
        "import timeit\n",
        "import pandas as pd"
      ]
    },
    {
      "cell_type": "markdown",
      "source": [
        "### Funtion to convert permutation to permutation matrix and vise-versa "
      ],
      "metadata": {
        "id": "ka_uqpbBP79v"
      }
    },
    {
      "cell_type": "code",
      "execution_count": 2,
      "metadata": {
        "id": "bSMVc4Te5_Ss"
      },
      "outputs": [],
      "source": [
        "def per_to_mat(p):\n",
        "  a=np.zeros((len(p),len(p)))\n",
        "  for i in range(len(p)):\n",
        "    a[i][p[i]]=1\n",
        "  return a\n",
        "def mat_to_per(p):\n",
        "  l=list()\n",
        "  for i in range(len(p)):\n",
        "    l.append(list(p[i,:]).index(max(p[i,:])))\n",
        "  return l"
      ]
    },
    {
      "cell_type": "markdown",
      "source": [
        "### Logistic Function"
      ],
      "metadata": {
        "id": "iFTJxTiyQONf"
      }
    },
    {
      "cell_type": "code",
      "execution_count": 3,
      "metadata": {
        "id": "6X7YMd37Lv6n"
      },
      "outputs": [],
      "source": [
        "def logistic_(x):\n",
        "  return 1/(1+np.exp(-x))\n",
        "logistic=np.vectorize(logistic_)"
      ]
    },
    {
      "cell_type": "markdown",
      "source": [
        "### Function to calculate time"
      ],
      "metadata": {
        "id": "kJkOUD1YQRNk"
      }
    },
    {
      "cell_type": "code",
      "execution_count": 4,
      "metadata": {
        "id": "YCtLo0dLz2Jr"
      },
      "outputs": [],
      "source": [
        "def time(p,per=True):\n",
        "  if not per:\n",
        "    p=mat_to_per(p)\n",
        "  time_before=[[0]*N]\n",
        "  for i in range(M):\n",
        "    l=list()\n",
        "    before=time_before[i]\n",
        "    l.append(before[0]+T[i][p[0]])\n",
        "    for j in range(1,N):\n",
        "      if before[j]<=l[-1]:\n",
        "        l.append(l[-1]+T[i][p[j]])\n",
        "      else:\n",
        "        l.append(before[j]+T[i][p[j]])\n",
        "    time_before.append(l)\n",
        "  return -time_before[-1][-1]"
      ]
    },
    {
      "cell_type": "markdown",
      "source": [
        "### Row wise, Column wise, Element wise conversion to permutation matrix"
      ],
      "metadata": {
        "id": "d-5nIfX9QVdS"
      }
    },
    {
      "cell_type": "code",
      "execution_count": 5,
      "metadata": {
        "id": "fwI41ruR9oPz"
      },
      "outputs": [],
      "source": [
        "def permut(p):\n",
        "  # p=p_.copy()\n",
        "  length=len(p)\n",
        "  l=list(range(length))\n",
        "  ans=np.zeros((length,length))\n",
        "  for i in range(length):\n",
        "    col=[p[j][i] for j in l]\n",
        "    ind=list(p[:,i]).index(max(col))\n",
        "    # print(p[:,i],col,l,ind)\n",
        "    l.remove(ind)\n",
        "    p[ind,:]=-1000000\n",
        "    ans[ind][i]=1\n",
        "\n",
        "  return ans\n",
        "def permut_(p):\n",
        "  # p=p_.copy()\n",
        "  length=len(p)\n",
        "  l=list(range(length))\n",
        "  ans=np.zeros((length,length))\n",
        "  for i in range(length):\n",
        "    col=[p[i][j] for j in l]\n",
        "    ind=list(p[i,:]).index(max(col))\n",
        "    # print(p[:,i],col,l,ind)\n",
        "    l.remove(ind)\n",
        "    p[:,ind]=-1000000\n",
        "    ans[i][ind]=1\n",
        "\n",
        "  return ans\n",
        "\n",
        "def permut__(p):\n",
        "  # p=p_.copy()\n",
        "  length=len(p)\n",
        "  \n",
        "  ans=np.zeros((length,length))\n",
        "  for _ in range(length):\n",
        "    # maxValue = np.amax(p)\n",
        "    result = np.where(p == np.amax(p))\n",
        "    listOfCordinates = list(zip(result[0], result[1]))[0]\n",
        "    # travese over the list of cordinates\n",
        "    i=listOfCordinates[0]\n",
        "    j=listOfCordinates[1]\n",
        "    p[:,j]=-1000000\n",
        "    p[i,:]=-1000000\n",
        "    ans[i][j]=1\n",
        "    \n",
        "  return ans"
      ]
    },
    {
      "cell_type": "markdown",
      "source": [
        "### Trial 1: simple problem with known solution "
      ],
      "metadata": {
        "id": "R5cZZ0H8REfF"
      }
    },
    {
      "cell_type": "code",
      "execution_count": 6,
      "metadata": {
        "id": "D9xy5WCd6MwD"
      },
      "outputs": [],
      "source": [
        "# Machine,jobs=3,4\n",
        "M,N=3,4\n",
        "T=np.array([ [5, 7 ,3 ,1],[2 ,4 ,5, 8],[6 ,2 ,4 ,3]]) # M X N\n",
        "number_ff=2\n",
        "pos=list()\n",
        "iter=50\n",
        "intensity=list()\n",
        "gamma=1\n",
        "alpha=1\n",
        "beta=2\n",
        "best=-1000000\n",
        "for i in range(number_ff):\n",
        "  temp=random.sample(list(range(N)), N)\n",
        "  pos.append(per_to_mat(temp))\n",
        "  intensity.append(time(temp))\n",
        "  if best<=intensity[-1]:\n",
        "    best=intensity[-1]\n",
        "    best_idx=i\n",
        "global_best=list()\n",
        "global_best.append(best)  "
      ]
    },
    {
      "cell_type": "code",
      "execution_count": 7,
      "metadata": {
        "id": "raX41Oyw--9u"
      },
      "outputs": [],
      "source": [
        "for k in range(iter):\n",
        "  for i in range(number_ff):\n",
        "    temp=np.zeros((N,N))\n",
        "    for j in range(number_ff):\n",
        "      if intensity[i]<=intensity[j]:\n",
        "        rij=np.sqrt(np.sum(np.square(pos[j]-pos[i])))\n",
        "        temp=temp+beta*np.exp(-gamma*rij**2)*(pos[j]-pos[i])\n",
        "    # print(temp)\n",
        "    temp=temp+alpha*np.reshape(np.random.uniform(-.5,.5,N*N),(N,N))\n",
        "    temp=logistic(temp)\n",
        "    # print(temp)\n",
        "    pos_new=permut(temp)\n",
        "    pos[i]=pos_new\n",
        "    intensity_new=time(pos_new,False)\n",
        "    if intensity_new>=best:\n",
        "      best=intensity_new\n",
        "      best_idx=i\n",
        "  global_best.append(best)  "
      ]
    },
    {
      "cell_type": "code",
      "execution_count": 9,
      "metadata": {
        "colab": {
          "base_uri": "https://localhost:8080/",
          "height": 312
        },
        "id": "zF9lCdfY_BTw",
        "outputId": "f146769e-9237-4005-bd87-97da1be741b9"
      },
      "outputs": [
        {
          "output_type": "execute_result",
          "data": {
            "text/plain": [
              "[<matplotlib.lines.Line2D at 0x7f27119990d0>]"
            ]
          },
          "metadata": {},
          "execution_count": 9
        },
        {
          "output_type": "display_data",
          "data": {
            "text/plain": [
              "<Figure size 432x288 with 1 Axes>"
            ],
            "image/png": "[encoded data removed]"
          },
          "metadata": {
            "needs_background": "light"
          }
        }
      ],
      "source": [
        "plt.title('Line Plot of current maximum Vs iterations')\n",
        "plt.xlabel('Number of iterations')  \n",
        "plt.ylabel('current maximum')\n",
        "plt.plot(list(range(1,len(global_best)+1)),-np.array(global_best))"
      ]
    },
    {
      "cell_type": "markdown",
      "source": [
        "### Trail 2:- Increasing the number of jobs and machine"
      ],
      "metadata": {
        "id": "3xkEN3R0RKWj"
      }
    },
    {
      "cell_type": "code",
      "execution_count": 10,
      "metadata": {
        "id": "CvIr7IUQgYxr"
      },
      "outputs": [],
      "source": [
        "random.seed(10)\n",
        "M,N=7,9\n",
        "# Machine,jobs=7,9\n",
        "T=np.array(np.reshape(np.random.randint(1, 200 + 1,M*N),(M,N)))"
      ]
    },
    {
      "cell_type": "code",
      "execution_count": 12,
      "metadata": {
        "id": "rH-jx9cDKKYl"
      },
      "outputs": [],
      "source": [
        "start = timeit.default_timer()\n",
        "number_ff=10\n",
        "pos=list()\n",
        "iter=1000\n",
        "intensity=list()\n",
        "gamma=.2\n",
        "alpha=.5\n",
        "beta=2\n",
        "theta=1\n",
        "best=-1000000\n",
        "for i in range(number_ff):\n",
        "  temp=random.sample(list(range(N)), N)\n",
        "  pos.append(per_to_mat(temp))\n",
        "  intensity.append(time(temp))\n",
        "  if best<=intensity[-1]:\n",
        "    best=intensity[-1]\n",
        "    best_idx=i\n",
        "global_best=list()\n",
        "global_best.append(best)  \n"
      ]
    },
    {
      "cell_type": "code",
      "execution_count": 13,
      "metadata": {
        "id": "dADNZH4kLlhk"
      },
      "outputs": [],
      "source": [
        "for k in range(iter):\n",
        "  for i in range(number_ff):\n",
        "    temp=np.zeros((N,N))\n",
        "    for j in range(number_ff):\n",
        "      if intensity[i]<=intensity[j]:\n",
        "        rij=np.sqrt(np.sum(np.square(pos[j]-pos[i])))\n",
        "        temp=temp+beta*np.exp(-gamma*rij**2)*(pos[j]-pos[i])\n",
        "    # print(temp)\n",
        "    temp=temp+alpha*np.reshape(np.random.uniform(-.5,.5,N*N),(N,N))\n",
        "    # print(temp)\n",
        "    temp=logistic(temp)\n",
        "    # print(temp)\n",
        "    pos_new=permut__(temp)\n",
        "    pos[i]=pos_new\n",
        "    intensity_new=time(pos_new,False)\n",
        "    alpha=alpha*theta\n",
        "    if intensity_new>=best:\n",
        "      best=intensity_new\n",
        "      best_idx=i\n",
        "  global_best.append(best) \n",
        "stop = timeit.default_timer() "
      ]
    },
    {
      "cell_type": "code",
      "execution_count": 14,
      "metadata": {
        "colab": {
          "base_uri": "https://localhost:8080/",
          "height": 330
        },
        "id": "d3jsqWwPJXFy",
        "outputId": "0db9e3f6-308c-43ce-dfed-6d64899b0869"
      },
      "outputs": [
        {
          "output_type": "stream",
          "name": "stdout",
          "text": [
            "1801\n",
            "Time:  6.605579390000003\n"
          ]
        },
        {
          "output_type": "display_data",
          "data": {
            "text/plain": [
              "<Figure size 432x288 with 1 Axes>"
            ],
            "image/png": "[encoded data removed]"
          },
          "metadata": {
            "needs_background": "light"
          }
        }
      ],
      "source": [
        "plt.title('Line Plot of current maximum Vs iterations')\n",
        "plt.xlabel('Number of iterations')  \n",
        "plt.ylabel('current maximum')\n",
        "plt.plot(list(range(1,len(global_best)+1)),-np.array(global_best))\n",
        "print(-global_best[-1])\n",
        "plt.legend(['global optimum'])\n",
        "plt.savefig('my_plot.jpeg')\n",
        "\n",
        "\n",
        "print('Time: ', stop - start) "
      ]
    },
    {
      "cell_type": "code",
      "execution_count": 15,
      "metadata": {
        "colab": {
          "base_uri": "https://localhost:8080/"
        },
        "id": "JjXFQ65GKQn_",
        "outputId": "b7560f93-1909-40cf-9015-f2ecb99feab8"
      },
      "outputs": [
        {
          "output_type": "stream",
          "name": "stdout",
          "text": [
            "1761\n",
            "Time:  20.01027815399999\n"
          ]
        }
      ],
      "source": [
        "start = timeit.default_timer()\n",
        "perm = permutations(list(range(N))) \n",
        "min=1000000\n",
        "\n",
        "for i in list(perm): \n",
        "    x=-time(list(i))\n",
        "    if x<=min:\n",
        "      min=x\n",
        "stop = timeit.default_timer()\n",
        "print(min)\n",
        "print('Time: ', stop - start) "
      ]
    },
    {
      "cell_type": "markdown",
      "source": [
        "### Final Trail: A complete comparison between naive and firefly approach"
      ],
      "metadata": {
        "id": "o-NXcIfuRabU"
      }
    },
    {
      "cell_type": "code",
      "execution_count": null,
      "metadata": {
        "colab": {
          "base_uri": "https://localhost:8080/",
          "height": 726
        },
        "id": "i6iQZApQwZTq",
        "outputId": "9fd45d2d-6bb2-4c50-8748-a722ce0ce8ba"
      },
      "outputs": [
        {
          "output_type": "display_data",
          "data": {
            "text/plain": [
              "<Figure size 720x720 with 6 Axes>"
            ],
            "image/png": "[encoded data removed]"
          },
          "metadata": {
            "needs_background": "light"
          }
        }
      ],
      "source": [
        "random.seed(10)\n",
        "comp=list()\n",
        "fig, ax = plt.subplots(3, 2, figsize=(10,10))\n",
        "for _ in range(6):\n",
        "  comp_=list()\n",
        "  M,N=5,9\n",
        "  T=np.array(np.reshape(np.random.randint(1, 200 + 1,M*N),(M,N)))\n",
        "  start = timeit.default_timer()\n",
        "  number_ff=10\n",
        "  pos=list()\n",
        "  iter=1000\n",
        "  intensity=list()\n",
        "  gamma=.2\n",
        "  alpha=.5\n",
        "  beta=2\n",
        "  theta=1\n",
        "  best=-1000000\n",
        "  for i in range(number_ff):\n",
        "    temp=random.sample(list(range(N)), N)\n",
        "    pos.append(per_to_mat(temp))\n",
        "    intensity.append(time(temp))\n",
        "    if best<=intensity[-1]:\n",
        "      best=intensity[-1]\n",
        "      best_idx=i\n",
        "  global_best=list()\n",
        "  global_best.append(best)  \n",
        "  for k in range(iter):\n",
        "    for i in range(number_ff):\n",
        "      temp=np.zeros((N,N))\n",
        "      for j in range(number_ff):\n",
        "        if intensity[i]<=intensity[j]:\n",
        "          rij=np.sqrt(np.sum(np.square(pos[j]-pos[i])))\n",
        "          temp=temp+beta*np.exp(-gamma*rij**2)*(pos[j]-pos[i])\n",
        "      # print(temp)\n",
        "      temp=temp+alpha*np.reshape(np.random.uniform(-.5,.5,N*N),(N,N))\n",
        "      # print(temp)\n",
        "      temp=logistic(temp)\n",
        "      # print(temp)\n",
        "      pos_new=permut__(temp)\n",
        "      pos[i]=pos_new\n",
        "      intensity_new=time(pos_new,False)\n",
        "      # alpha=alpha*theta\n",
        "      if intensity_new>=best:\n",
        "        best=intensity_new\n",
        "        best_idx=i\n",
        "    global_best.append(best)  \n",
        "\n",
        "  stop = timeit.default_timer()\n",
        "  ii=int(_/2)\n",
        "  jj=_-ii*2\n",
        "  ax[ii][jj].set_title('Line Plot of current maximum Vs iterations')\n",
        "  ax[ii][jj].set_xlabel('Number of iterations')  \n",
        "  ax[ii][jj].set_ylabel('current maximum')\n",
        "  \n",
        "  ax[ii][jj].plot(list(range(1,len(global_best)+1)),-np.array(global_best),label=\"global optimum\")\n",
        "  ax[ii][jj].legend(loc=\"upper right\")\n",
        "  # ax[_].savefig('my_plot'+str(_)+'.jpeg')\n",
        "  comp_.extend([-global_best[-1],stop - start])\n",
        "  start = timeit.default_timer()\n",
        "  perm = permutations(list(range(N))) \n",
        "  min=1000000\n",
        "  for i in list(perm): \n",
        "      x=-time(list(i))\n",
        "      if x<=min:\n",
        "        min=x\n",
        "  stop = timeit.default_timer()\n",
        "  comp_.extend([min,stop - start])\n",
        "  comp.append(comp_)\n",
        "plt.subplots_adjust(left=0.1,\n",
        "                    bottom=0.1,\n",
        "                    right=1,\n",
        "                    top=1,\n",
        "                    wspace=0.4,\n",
        "                    hspace=0.4)\n",
        "plt.show()\n",
        "\n",
        "fig.savefig('full_figure.jpeg')"
      ]
    },
    {
      "cell_type": "code",
      "execution_count": null,
      "metadata": {
        "id": "yeFK6A9Xqrhl",
        "colab": {
          "base_uri": "https://localhost:8080/",
          "height": 238
        },
        "outputId": "7bda1613-730b-400a-ede9-ba0664d51767"
      },
      "outputs": [
        {
          "output_type": "execute_result",
          "data": {
            "text/plain": [
              "      0         1     2          3\n",
              "0  1487  5.830360  1471  10.234105\n",
              "1  1382  5.189431  1360  10.237495\n",
              "2  1244  5.402667  1244  10.197077\n",
              "3  1393  5.199275  1365  10.168530\n",
              "4  1381  5.284294  1381  10.172134\n",
              "5  1313  5.157406  1286  10.153467"
            ],
            "text/html": [
              "\n",
              "  <div id=\"df-fe79412e-dc9b-4ab9-84e5-e16479bb2858\">\n",
              "    <div class=\"colab-df-container\">\n",
              "      <div>\n",
              "<style scoped>\n",
              "    .dataframe tbody tr th:only-of-type {\n",
              "        vertical-align: middle;\n",
              "    }\n",
              "\n",
              "    .dataframe tbody tr th {\n",
              "        vertical-align: top;\n",
              "    }\n",
              "\n",
              "    .dataframe thead th {\n",
              "        text-align: right;\n",
              "    }\n",
              "</style>\n",
              "<table border=\"1\" class=\"dataframe\">\n",
              "  <thead>\n",
              "    <tr style=\"text-align: right;\">\n",
              "      <th></th>\n",
              "      <th>0</th>\n",
              "      <th>1</th>\n",
              "      <th>2</th>\n",
              "      <th>3</th>\n",
              "    </tr>\n",
              "  </thead>\n",
              "  <tbody>\n",
              "    <tr>\n",
              "      <th>0</th>\n",
              "      <td>1487</td>\n",
              "      <td>5.830360</td>\n",
              "      <td>1471</td>\n",
              "      <td>10.234105</td>\n",
              "    </tr>\n",
              "    <tr>\n",
              "      <th>1</th>\n",
              "      <td>1382</td>\n",
              "      <td>5.189431</td>\n",
              "      <td>1360</td>\n",
              "      <td>10.237495</td>\n",
              "    </tr>\n",
              "    <tr>\n",
              "      <th>2</th>\n",
              "      <td>1244</td>\n",
              "      <td>5.402667</td>\n",
              "      <td>1244</td>\n",
              "      <td>10.197077</td>\n",
              "    </tr>\n",
              "    <tr>\n",
              "      <th>3</th>\n",
              "      <td>1393</td>\n",
              "      <td>5.199275</td>\n",
              "      <td>1365</td>\n",
              "      <td>10.168530</td>\n",
              "    </tr>\n",
              "    <tr>\n",
              "      <th>4</th>\n",
              "      <td>1381</td>\n",
              "      <td>5.284294</td>\n",
              "      <td>1381</td>\n",
              "      <td>10.172134</td>\n",
              "    </tr>\n",
              "    <tr>\n",
              "      <th>5</th>\n",
              "      <td>1313</td>\n",
              "      <td>5.157406</td>\n",
              "      <td>1286</td>\n",
              "      <td>10.153467</td>\n",
              "    </tr>\n",
              "  </tbody>\n",
              "</table>\n",
              "</div>\n",
              "      <button class=\"colab-df-convert\" onclick=\"convertToInteractive('df-fe79412e-dc9b-4ab9-84e5-e16479bb2858')\"\n",
              "              title=\"Convert this dataframe to an interactive table.\"\n",
              "              style=\"display:none;\">\n",
              "        \n",
              "  <svg xmlns=\"http://www.w3.org/2000/svg\" height=\"24px\"viewBox=\"0 0 24 24\"\n",
              "       width=\"24px\">\n",
              "    <path d=\"M0 0h24v24H0V0z\" fill=\"none\"/>\n",
              "    <path d=\"M18.56 5.44l.94 2.06.94-2.06 2.06-.94-2.06-.94-.94-2.06-.94 2.06-2.06.94zm-11 1L8.5 8.5l.94-2.06 2.06-.94-2.06-.94L8.5 2.5l-.94 2.06-2.06.94zm10 10l.94 2.06.94-2.06 2.06-.94-2.06-.94-.94-2.06-.94 2.06-2.06.94z\"/><path d=\"M17.41 7.96l-1.37-1.37c-.4-.4-.92-.59-1.43-.59-.52 0-1.04.2-1.43.59L10.3 9.45l-7.72 7.72c-.78.78-.78 2.05 0 2.83L4 21.41c.39.39.9.59 1.41.59.51 0 1.02-.2 1.41-.59l7.78-7.78 2.81-2.81c.8-.78.8-2.07 0-2.86zM5.41 20L4 18.59l7.72-7.72 1.47 1.35L5.41 20z\"/>\n",
              "  </svg>\n",
              "      </button>\n",
              "      \n",
              "  <style>\n",
              "    .colab-df-container {\n",
              "      display:flex;\n",
              "      flex-wrap:wrap;\n",
              "      gap: 12px;\n",
              "    }\n",
              "\n",
              "    .colab-df-convert {\n",
              "      background-color: #E8F0FE;\n",
              "      border: none;\n",
              "      border-radius: 50%;\n",
              "      cursor: pointer;\n",
              "      display: none;\n",
              "      fill: #1967D2;\n",
              "      height: 32px;\n",
              "      padding: 0 0 0 0;\n",
              "      width: 32px;\n",
              "    }\n",
              "\n",
              "    .colab-df-convert:hover {\n",
              "      background-color: #E2EBFA;\n",
              "      box-shadow: 0px 1px 2px rgba(60, 64, 67, 0.3), 0px 1px 3px 1px rgba(60, 64, 67, 0.15);\n",
              "      fill: #174EA6;\n",
              "    }\n",
              "\n",
              "    [theme=dark] .colab-df-convert {\n",
              "      background-color: #3B4455;\n",
              "      fill: #D2E3FC;\n",
              "    }\n",
              "\n",
              "    [theme=dark] .colab-df-convert:hover {\n",
              "      background-color: #434B5C;\n",
              "      box-shadow: 0px 1px 3px 1px rgba(0, 0, 0, 0.15);\n",
              "      filter: drop-shadow(0px 1px 2px rgba(0, 0, 0, 0.3));\n",
              "      fill: #FFFFFF;\n",
              "    }\n",
              "  </style>\n",
              "\n",
              "      <script>\n",
              "        const buttonEl =\n",
              "          document.querySelector('#df-fe79412e-dc9b-4ab9-84e5-e16479bb2858 button.colab-df-convert');\n",
              "        buttonEl.style.display =\n",
              "          google.colab.kernel.accessAllowed ? 'block' : 'none';\n",
              "\n",
              "        async function convertToInteractive(key) {\n",
              "          const element = document.querySelector('#df-fe79412e-dc9b-4ab9-84e5-e16479bb2858');\n",
              "          const dataTable =\n",
              "            await google.colab.kernel.invokeFunction('convertToInteractive',\n",
              "                                                     [key], {});\n",
              "          if (!dataTable) return;\n",
              "\n",
              "          const docLinkHtml = 'Like what you see? Visit the ' +\n",
              "            '<a target=\"_blank\" href=https://colab.research.google.com/notebooks/data_table.ipynb>data table notebook</a>'\n",
              "            + ' to learn more about interactive tables.';\n",
              "          element.innerHTML = '';\n",
              "          dataTable['output_type'] = 'display_data';\n",
              "          await google.colab.output.renderOutput(dataTable, element);\n",
              "          const docLink = document.createElement('div');\n",
              "          docLink.innerHTML = docLinkHtml;\n",
              "          element.appendChild(docLink);\n",
              "        }\n",
              "      </script>\n",
              "    </div>\n",
              "  </div>\n",
              "  "
            ]
          },
          "metadata": {},
          "execution_count": 58
        }
      ],
      "source": [
        "pd.DataFrame(comp)"
      ]
    },
    {
      "cell_type": "code",
      "execution_count": null,
      "metadata": {
        "id": "iXtMJsOyqrcE"
      },
      "outputs": [],
      "source": []
    }
  ],
  "metadata": {
    "colab": {
      "provenance": [],
      "collapsed_sections": []
    },
    "kernelspec": {
      "display_name": "Python 3",
      "name": "python3"
    },
    "language_info": {
      "name": "python"
    }
  },
  "nbformat": 4,
  "nbformat_minor": 0
}